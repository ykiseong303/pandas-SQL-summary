{
 "cells": [
  {
   "cell_type": "code",
   "execution_count": 10,
   "metadata": {
    "collapsed": false
   },
   "outputs": [],
   "source": [
    "import pandas as pd\n",
    "\n",
    "import pymysql\n",
    "pymysql.install_as_MySQLdb()\n",
    "\n",
    "import MySQLdb\n",
    "# pip install mysqlclient\n",
    "\n",
    "db = MySQLdb.connect(\n",
    "    \"db.fastcamp.us\",  # DATABASE_HOST\n",
    "    \"root\",  # DATABASE_USERNAME\n",
    "    \"dkstncks\",  # DATABASE_PASSWORD\n",
    "    \"world\",  # DATABASE_NAME\n",
    "    charset='utf8',\n",
    ")\n",
    "\n",
    "SQL_QUERY = \"\"\"\n",
    "    SELECT *\n",
    "    FROM Country\n",
    "    ;\n",
    "\"\"\"\n",
    "\n",
    "country_df = pd.read_sql(SQL_QUERY, db)"
   ]
  },
  {
   "cell_type": "code",
   "execution_count": 12,
   "metadata": {
    "collapsed": false
   },
   "outputs": [
    {
     "data": {
      "text/html": [
       "<div>\n",
       "<table border=\"1\" class=\"dataframe\">\n",
       "  <thead>\n",
       "    <tr style=\"text-align: right;\">\n",
       "      <th></th>\n",
       "      <th>Code</th>\n",
       "      <th>Name</th>\n",
       "      <th>Continent</th>\n",
       "      <th>Region</th>\n",
       "      <th>SurfaceArea</th>\n",
       "      <th>IndepYear</th>\n",
       "      <th>Population</th>\n",
       "      <th>LifeExpectancy</th>\n",
       "      <th>GNP</th>\n",
       "      <th>GNPOld</th>\n",
       "      <th>LocalName</th>\n",
       "      <th>GovernmentForm</th>\n",
       "      <th>HeadOfState</th>\n",
       "      <th>Capital</th>\n",
       "      <th>Code2</th>\n",
       "    </tr>\n",
       "  </thead>\n",
       "  <tbody>\n",
       "    <tr>\n",
       "      <th>0</th>\n",
       "      <td>ABW</td>\n",
       "      <td>Aruba</td>\n",
       "      <td>North America</td>\n",
       "      <td>Caribbean</td>\n",
       "      <td>193.0</td>\n",
       "      <td>NaN</td>\n",
       "      <td>103000</td>\n",
       "      <td>78.4</td>\n",
       "      <td>828.0</td>\n",
       "      <td>793.0</td>\n",
       "      <td>Aruba</td>\n",
       "      <td>Nonmetropolitan Territory of The Netherlands</td>\n",
       "      <td>Beatrix</td>\n",
       "      <td>129.0</td>\n",
       "      <td>AW</td>\n",
       "    </tr>\n",
       "    <tr>\n",
       "      <th>1</th>\n",
       "      <td>AFG</td>\n",
       "      <td>Afghanistan</td>\n",
       "      <td>Asia</td>\n",
       "      <td>Southern and Central Asia</td>\n",
       "      <td>652090.0</td>\n",
       "      <td>1919.0</td>\n",
       "      <td>22720000</td>\n",
       "      <td>45.9</td>\n",
       "      <td>5976.0</td>\n",
       "      <td>NaN</td>\n",
       "      <td>Afganistan/Afqanestan</td>\n",
       "      <td>Islamic Emirate</td>\n",
       "      <td>Mohammad Omar</td>\n",
       "      <td>1.0</td>\n",
       "      <td>AF</td>\n",
       "    </tr>\n",
       "    <tr>\n",
       "      <th>2</th>\n",
       "      <td>AGO</td>\n",
       "      <td>Angola</td>\n",
       "      <td>Africa</td>\n",
       "      <td>Central Africa</td>\n",
       "      <td>1246700.0</td>\n",
       "      <td>1975.0</td>\n",
       "      <td>12878000</td>\n",
       "      <td>38.3</td>\n",
       "      <td>6648.0</td>\n",
       "      <td>7984.0</td>\n",
       "      <td>Angola</td>\n",
       "      <td>Republic</td>\n",
       "      <td>José Eduardo dos Santos</td>\n",
       "      <td>56.0</td>\n",
       "      <td>AO</td>\n",
       "    </tr>\n",
       "    <tr>\n",
       "      <th>3</th>\n",
       "      <td>AIA</td>\n",
       "      <td>Anguilla</td>\n",
       "      <td>North America</td>\n",
       "      <td>Caribbean</td>\n",
       "      <td>96.0</td>\n",
       "      <td>NaN</td>\n",
       "      <td>8000</td>\n",
       "      <td>76.1</td>\n",
       "      <td>63.2</td>\n",
       "      <td>NaN</td>\n",
       "      <td>Anguilla</td>\n",
       "      <td>Dependent Territory of the UK</td>\n",
       "      <td>Elisabeth II</td>\n",
       "      <td>62.0</td>\n",
       "      <td>AI</td>\n",
       "    </tr>\n",
       "    <tr>\n",
       "      <th>4</th>\n",
       "      <td>ALB</td>\n",
       "      <td>Albania</td>\n",
       "      <td>Europe</td>\n",
       "      <td>Southern Europe</td>\n",
       "      <td>28748.0</td>\n",
       "      <td>1912.0</td>\n",
       "      <td>3401200</td>\n",
       "      <td>71.6</td>\n",
       "      <td>3205.0</td>\n",
       "      <td>2500.0</td>\n",
       "      <td>Shqipëria</td>\n",
       "      <td>Republic</td>\n",
       "      <td>Rexhep Mejdani</td>\n",
       "      <td>34.0</td>\n",
       "      <td>AL</td>\n",
       "    </tr>\n",
       "  </tbody>\n",
       "</table>\n",
       "</div>"
      ],
      "text/plain": [
       "  Code         Name      Continent                     Region  SurfaceArea  \\\n",
       "0  ABW        Aruba  North America                  Caribbean        193.0   \n",
       "1  AFG  Afghanistan           Asia  Southern and Central Asia     652090.0   \n",
       "2  AGO       Angola         Africa             Central Africa    1246700.0   \n",
       "3  AIA     Anguilla  North America                  Caribbean         96.0   \n",
       "4  ALB      Albania         Europe            Southern Europe      28748.0   \n",
       "\n",
       "   IndepYear  Population  LifeExpectancy     GNP  GNPOld  \\\n",
       "0        NaN      103000            78.4   828.0   793.0   \n",
       "1     1919.0    22720000            45.9  5976.0     NaN   \n",
       "2     1975.0    12878000            38.3  6648.0  7984.0   \n",
       "3        NaN        8000            76.1    63.2     NaN   \n",
       "4     1912.0     3401200            71.6  3205.0  2500.0   \n",
       "\n",
       "               LocalName                                GovernmentForm  \\\n",
       "0                  Aruba  Nonmetropolitan Territory of The Netherlands   \n",
       "1  Afganistan/Afqanestan                               Islamic Emirate   \n",
       "2                 Angola                                      Republic   \n",
       "3               Anguilla                 Dependent Territory of the UK   \n",
       "4              Shqipëria                                      Republic   \n",
       "\n",
       "               HeadOfState  Capital Code2  \n",
       "0                  Beatrix    129.0    AW  \n",
       "1            Mohammad Omar      1.0    AF  \n",
       "2  José Eduardo dos Santos     56.0    AO  \n",
       "3             Elisabeth II     62.0    AI  \n",
       "4           Rexhep Mejdani     34.0    AL  "
      ]
     },
     "execution_count": 12,
     "metadata": {},
     "output_type": "execute_result"
    }
   ],
   "source": [
    "country_df.head()"
   ]
  },
  {
   "cell_type": "code",
   "execution_count": 13,
   "metadata": {
    "collapsed": true
   },
   "outputs": [],
   "source": [
    "country_df = pd.read_sql(\"SELECT * FROM Country;\", db)"
   ]
  },
  {
   "cell_type": "code",
   "execution_count": 14,
   "metadata": {
    "collapsed": true
   },
   "outputs": [],
   "source": [
    "# SQL : 구조화된 질의 언어!"
   ]
  },
  {
   "cell_type": "code",
   "execution_count": null,
   "metadata": {
    "collapsed": true
   },
   "outputs": [],
   "source": [
    "SQL_QUERY = \"\"\"\n",
    "    SELECT ______ # 어떤 Column, 어떤 값을 가져올까\n",
    "    FROM _____    # 어떤 Table(Excel, Sheet) 에서 가져올까\n",
    "    ;\n",
    "\"\"\""
   ]
  }
 ],
 "metadata": {
  "kernelspec": {
   "display_name": "Python 3",
   "language": "python",
   "name": "python3"
  },
  "language_info": {
   "codemirror_mode": {
    "name": "ipython",
    "version": 3
   },
   "file_extension": ".py",
   "mimetype": "text/x-python",
   "name": "python",
   "nbconvert_exporter": "python",
   "pygments_lexer": "ipython3",
   "version": "3.5.1"
  }
 },
 "nbformat": 4,
 "nbformat_minor": 0
}
